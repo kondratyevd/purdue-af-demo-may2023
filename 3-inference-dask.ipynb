{
 "cells": [
  {
   "cell_type": "markdown",
   "id": "585c823e-6fe1-4fe8-adc5-0d51890db1e7",
   "metadata": {},
   "source": [
    "# Demo 3: DNN inference"
   ]
  },
  {
   "cell_type": "markdown",
   "id": "2c56e44d-019a-4583-9ba8-691686cd851c",
   "metadata": {
    "tags": []
   },
   "source": [
    "In this demo we show how different workflows can be used to optimize the performance of a user analysis, with a generic DNN model inference as an example.\n"
   ]
  },
  {
   "cell_type": "code",
   "execution_count": null,
   "id": "50b7568c-e128-49e8-99f5-d50973e657b4",
   "metadata": {
    "tags": []
   },
   "outputs": [],
   "source": [
    "import numpy as np\n",
    "import pandas as pd\n",
    "import torch\n",
    "\n",
    "from python.event_selection import load_events\n",
    "from python.dnn_model import NeuralNet\n",
    "\n",
    "sources = [\"data\", \"ttbar\", \"dy\"]\n",
    "server = \"file:/depot/cms/purdue-af/demos/\"\n",
    "model_dir = \"/depot/cms/purdue-af/demos/\"\n",
    "dfs = {}\n",
    "\n",
    "# load datasets for inference\n",
    "for src in sources:\n",
    "    dfs[src] = load_events(f\"{server}/{src}.root\")\n",
    "\n",
    "features = ['mu1_pt', 'mu1_eta', 'mu2_pt', 'mu2_eta', 'dimuon_mass', 'met']\n",
    "\n",
    "df_sig = dfs['dy'][features]\n",
    "df_bkg = dfs['ttbar'][features]\n",
    "df_data = dfs['data'][features]"
   ]
  },
  {
   "cell_type": "markdown",
   "id": "235a5355-407e-4c57-a843-ba0a86be8624",
   "metadata": {
    "tags": []
   },
   "source": [
    "### Option 1: parallelize over multiple CPUs using Dask"
   ]
  },
  {
   "cell_type": "code",
   "execution_count": null,
   "id": "92da10ce-0a7c-4d49-bd41-f3a4f003a685",
   "metadata": {
    "tags": []
   },
   "outputs": [],
   "source": [
    "from dask.distributed import Client\n",
    "\n",
    "client = Client(\"tcp://10.5.12.51:8786\")\n",
    "client"
   ]
  },
  {
   "cell_type": "code",
   "execution_count": null,
   "id": "7e8c9940-6894-44ba-a4b3-387cbc1458ad",
   "metadata": {
    "tags": []
   },
   "outputs": [],
   "source": [
    "\n",
    "def inference(df):\n",
    "    #model_path=\"/depot/cms/purdue-af/triton/models/test-model/1/model.pt\"\n",
    "    model_path=model_dir+\"/model.ckpt\"\n",
    "    device = torch.device('cpu')\n",
    "    model = NeuralNet(6, [16, 8], 1).to(device)\n",
    "    model.load_state_dict(torch.load(model_path, map_location=torch.device('cpu')))\n",
    "    model.eval()\n",
    "    df = torch.from_numpy(df.values).to(device).float()\n",
    "    scores = model(df) \n",
    "    scores = scores.cpu().detach().numpy()\n",
    "    return scores.ravel()  \n",
    "\n",
    "\n",
    "scattered_data = client.scatter([df_sig, df_bkg, df_data])\n",
    "futures = client.map(inference, scattered_data)\n",
    "dnn_sig, dnn_bkg, dnn_data = client.gather(futures)"
   ]
  },
  {
   "cell_type": "code",
   "execution_count": null,
   "id": "292a1b7d-f4c0-46aa-b7cd-390de5656945",
   "metadata": {
    "tags": []
   },
   "outputs": [],
   "source": [
    "print(dnn_sig)\n",
    "print(dnn_bkg)\n",
    "print(dnn_data)"
   ]
  },
  {
   "cell_type": "code",
   "execution_count": null,
   "id": "747f337c-d48c-438f-b78b-a3837c3d5d3e",
   "metadata": {
    "tags": []
   },
   "outputs": [],
   "source": [
    "import matplotlib.pyplot as plt\n",
    "bins = np.linspace(0, 1, 100)\n",
    "plt.figure(figsize=(5,4))\n",
    "\n",
    "\n",
    "plt.hist(dnn_sig, bins, alpha=0.3, label='dy', density=True)\n",
    "plt.hist(dnn_bkg, bins, alpha=0.3, label='ttbar', density=True)\n",
    "plt.hist(dnn_data, bins, alpha=0.3, label='data', density=True)\n",
    "plt.xlabel('DNN Score')\n",
    "plt.ylabel('Events')\n",
    "plt.legend(loc='upper left')"
   ]
  }
 ],
 "metadata": {
  "kernelspec": {
   "display_name": "Python3 kernel [ML]",
   "language": "python",
   "name": "python3-ml"
  },
  "language_info": {
   "codemirror_mode": {
    "name": "ipython",
    "version": 3
   },
   "file_extension": ".py",
   "mimetype": "text/x-python",
   "name": "python",
   "nbconvert_exporter": "python",
   "pygments_lexer": "ipython3",
   "version": "3.10.10"
  }
 },
 "nbformat": 4,
 "nbformat_minor": 5
}
